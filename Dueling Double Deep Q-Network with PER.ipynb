{
 "cells": [
  {
   "cell_type": "markdown",
   "id": "0045328f",
   "metadata": {},
   "source": [
    "# Setting up our Notebook"
   ]
  },
  {
   "cell_type": "markdown",
   "id": "a926da3c",
   "metadata": {},
   "source": [
    "In this notebook, the setup and exploration of the environment heavily follows Nicholas Renotte's YouTube tutorial *Build an Mario AI Model with Python | Gaming Reinforcement Learning* at: https://www.youtube.com/watch?v=2eeYqJ0uBKE&t=1982s\n",
    "\n",
    "The implementation of the DQN algorithm is a modified version of the example script found in *Deep Reinforcement Learning with Python*.\n",
    "\n",
    "Pertinent Links:\n",
    "\n",
    "Super Mario RL: https://pypi.org/project/gym-super-mario-bros/\n",
    "\n",
    "Nes Py: https://pypi.org/project/nes-py/\n",
    "\n",
    "OpenAI Gym: https://gym.openai.com/"
   ]
  },
  {
   "cell_type": "code",
   "execution_count": 1,
   "id": "0a9d763e",
   "metadata": {},
   "outputs": [],
   "source": [
    "# Standard Imports\n",
    "import random\n",
    "import numpy as np\n",
    "import matplotlib.pyplot as plt\n",
    "\n",
    "# RL\n",
    "import tensorflow as tf\n",
    "from tensorflow.keras.layers import Dense, Flatten\n",
    "from tensorflow.keras import Model\n",
    "import gym\n",
    "import numpy as np\n",
    "import seaborn_image as isns\n",
    "from scipy.signal import convolve, gaussian\n",
    "import torch\n",
    "import torch.nn as nn\n",
    "from torch.optim import Adam\n",
    "from torchvision import transforms as T\n",
    "\n",
    "# Misc\n",
    "import os\n",
    "import io\n",
    "import base64\n",
    "import time\n",
    "import glob\n",
    "from PIL import Image\n",
    "# from IPython.display import HTML"
   ]
  },
  {
   "cell_type": "code",
   "execution_count": 2,
   "id": "5435f582",
   "metadata": {},
   "outputs": [],
   "source": [
    "# Import the game\n",
    "import gym_super_mario_bros\n",
    "\n",
    "# Import the Joypad wrapper\n",
    "from nes_py.wrappers import JoypadSpace # Needed for changing the action space\n",
    "\n",
    "# Import the SIMPLIFIED controls\n",
    "from gym_super_mario_bros.actions import RIGHT_ONLY, SIMPLE_MOVEMENT, COMPLEX_MOVEMENT\n",
    "\n",
    "# Misc\n",
    "from gym.spaces import Box\n",
    "from gym.wrappers import FrameStack"
   ]
  },
  {
   "cell_type": "markdown",
   "id": "f532679f",
   "metadata": {},
   "source": [
    "# Mathematical Description of a Deep Q-Network"
   ]
  },
  {
   "cell_type": "markdown",
   "id": "4a963e27",
   "metadata": {},
   "source": [
    "Recall the equation for Q-Learning:\n",
    "\n",
    "$$ Q(S_t,A_t)=Q(S_t,A_t)+\\alpha \\left[ R_{t+1}+\\gamma \\max_{A_{t+1}} Q(S_{t+1},A_{t+1})-Q(S_t,A_t) \\right]$$\n",
    "\n",
    "However, we will be using neural networks to approximate our $Q$-function. We denote the weights and biases of this neural network $\\bf{\\Theta}$, and our approximation is thus:\n",
    "\n",
    "$$Q^{\\pi}(s,a) \\approx {\\hat{Q}}(s,a, \\bf{\\Theta})$$.\n",
    "\n",
    "We can calculate the loss as the difference squared between the true or target $Q$-function and the appoximation, in Monte Carlo form, as:\n",
    "\n",
    "$$ {\\mathcal{L}}({\\bf{\\Theta}})=\\dfrac{1}{N}\\sum_{i=1}^{N}(Q^{\\pi}(s,a) - {\\hat{Q}}(s,a, {\\bf{\\Theta}}))^2$$\n",
    "\n",
    "We use gradient descent to update our parameters $\\bf{\\Theta}$:\n",
    "\n",
    "$${\\bf{\\Theta}}_{t+1}={\\bf{\\Theta}}_t-\\alpha \\nabla _{{\\bf{\\Theta}}_t} {\\mathcal{L}}({\\bf{\\Theta}}_t)$$\n",
    "\n",
    "However, unlike in normal supervised machine learning, we do not actually know the true function $Q^{\\pi}$, so we must approximate it. We do so with another set of weights, ${\\bf{\\Theta}}^{target}$.\n",
    "\n",
    "Our new target function is thus:\n",
    "\n",
    "$$Q^{\\pi}(s_i,a_i)=r_i+(1-done_i)\\gamma \\max_{{a_i}^{'}} {\\tilde{Q}}({s_i}^{'},{a_i}^{'},{\\bf{\\Theta}}^{target}_t)$$\n",
    "\n",
    "Finally, our parameter update equation, fully wirtten out, becomes:\n",
    "\n",
    "$${\\bf{\\Theta}}_{t+1}={\\bf{\\Theta}}_t +\\alpha \\dfrac{1}{N}\\sum_{i=1}^{N} \\left[ r_i+(1-done_i) \\gamma \\max_{{a_i}^{'}} {\\tilde{Q}}({s_i}^{'},{a_i}^{'},{\\bf{\\Theta}}^{target}_t)-{\\hat{Q}}(s_i,a_i, {\\bf{\\Theta}}_t) \\right] \\nabla _{{\\bf{\\Theta}}_t}  {\\hat{Q}}(s_i,a_i, {\\bf{\\Theta}}_t)$$\n",
    "\n",
    "\n",
    "Our target parameters, ${\\bf{\\Theta}}^{target}$ are then updated less often so they serve as a stationary target for our loss function."
   ]
  },
  {
   "cell_type": "markdown",
   "id": "b71831f8",
   "metadata": {},
   "source": [
    "## Mathematical Description of a Double Deep Q-Network"
   ]
  },
  {
   "cell_type": "markdown",
   "id": "6e1b8a26",
   "metadata": {},
   "source": [
    "In a Double Deep Q-Network, the only thing that changes is the target. Recall the target Q-network in DQN:\n",
    "\n",
    "$$Y^{target}_{DQN}=r_i+(1-done_i)\\gamma \\max_{{a_i}^{'}} {\\tilde{Q}}({s_i}^{'},{a_i}^{'},{\\bf{\\Theta}}^{target}_t)$$\n",
    "\n",
    "We will modify this slightly by choosing the next action to be the one that maximizes the $\\hat{Q}$, and then feed that into the $\\tilde{Q}$ function. This looks like:\n",
    "\n",
    "$$Y^{target}_{DDQN}=r_i+(1-done_i)\\gamma {\\tilde{Q}}({s_i}^{'},\\max_{{a_i}^{'}} {\\hat{Q}}({s_i}^{'},{a_i}^{'},{\\bf{\\Theta}}_t) ,{\\bf{\\Theta}}^{target}_t)$$"
   ]
  },
  {
   "cell_type": "markdown",
   "id": "b3aac626",
   "metadata": {},
   "source": [
    "## Mathematical Description of a Dueling Deep Q-Network"
   ]
  },
  {
   "cell_type": "markdown",
   "id": "d0abe5d4",
   "metadata": {},
   "source": [
    "In this modification, we will begin by defining the Advantage:\n",
    "\n",
    "$$ A^{\\pi} (s,a)=Q^{\\pi}(s,a)-V(s)^{\\pi}$$\n",
    "\n",
    "From here, we will divide our neural network up and calculate the $Q$-value as follows:\n",
    "\n",
    "<img src=\"Graphics/Dueling DQN.png\" width=\"600\" height=\"600\" />"
   ]
  },
  {
   "cell_type": "markdown",
   "id": "ce8422e4",
   "metadata": {},
   "source": [
    "# Exploring the game"
   ]
  },
  {
   "cell_type": "code",
   "execution_count": 3,
   "id": "960f4c80",
   "metadata": {},
   "outputs": [],
   "source": [
    "# Setting up the game\n",
    "\n",
    "env = gym_super_mario_bros.make('SuperMarioBros-v0')"
   ]
  },
  {
   "cell_type": "code",
   "execution_count": 4,
   "id": "e18042fc",
   "metadata": {},
   "outputs": [
    {
     "name": "stdout",
     "output_type": "stream",
     "text": [
      "The RIGHT_ONLY action space: [['NOOP'], ['right'], ['right', 'A'], ['right', 'B'], ['right', 'A', 'B']]\n",
      "\n",
      "\n",
      "The SIMPLE_ACTION action space: [['NOOP'], ['right'], ['right', 'A'], ['right', 'B'], ['right', 'A', 'B'], ['A'], ['left']]\n",
      "\n",
      "\n",
      "The COMPLEX_ACTION action space: [['NOOP'], ['right'], ['right', 'A'], ['right', 'B'], ['right', 'A', 'B'], ['A'], ['left'], ['left', 'A'], ['left', 'B'], ['left', 'A', 'B'], ['down'], ['up']]\n"
     ]
    }
   ],
   "source": [
    "# Exploring the types of movement\n",
    "\n",
    "print('The RIGHT_ONLY action space:', RIGHT_ONLY)\n",
    "print('\\n')\n",
    "print('The SIMPLE_ACTION action space:', SIMPLE_MOVEMENT)\n",
    "print('\\n')\n",
    "print('The COMPLEX_ACTION action space:', COMPLEX_MOVEMENT)"
   ]
  },
  {
   "cell_type": "code",
   "execution_count": 5,
   "id": "c9015fa9",
   "metadata": {},
   "outputs": [
    {
     "data": {
      "text/plain": [
       "(240, 256, 3)"
      ]
     },
     "execution_count": 5,
     "metadata": {},
     "output_type": "execute_result"
    }
   ],
   "source": [
    "# Exploring the observation space\n",
    "\n",
    "env.observation_space.shape"
   ]
  },
  {
   "cell_type": "code",
   "execution_count": 6,
   "id": "5a5252fe",
   "metadata": {},
   "outputs": [
    {
     "data": {
      "text/plain": [
       "Discrete(256)"
      ]
     },
     "execution_count": 6,
     "metadata": {},
     "output_type": "execute_result"
    }
   ],
   "source": [
    "# Exploring the action space\n",
    "\n",
    "env.action_space"
   ]
  },
  {
   "cell_type": "markdown",
   "id": "67d649d0",
   "metadata": {},
   "source": [
    "So, we have each frame being 240 $\\times$ 256 pixels with 3 channnels (RBG).\n",
    "\n",
    "Let's choose the simple movements for ease of training."
   ]
  },
  {
   "cell_type": "markdown",
   "id": "3505e1f9",
   "metadata": {},
   "source": [
    "## Random Actions"
   ]
  },
  {
   "cell_type": "code",
   "execution_count": 7,
   "id": "99298cc3",
   "metadata": {},
   "outputs": [],
   "source": [
    "# Taking random actions\n",
    "\n",
    "def random_actions(game, movement, num_actions, render):\n",
    "    \n",
    "    \"\"\"\n",
    "    game is the game name.\n",
    "    movements is the type of movement where there are options. 'None' will skip this.\n",
    "    num_actions is the number of steps.\n",
    "    render determines if the game will be displayed, determined with True\n",
    "    \"\"\"\n",
    "    rewards = []\n",
    "    done = True\n",
    "    env = gym_super_mario_bros.make(game)\n",
    "    if movement != 'None':\n",
    "        env = JoypadSpace(env, movement)\n",
    "\n",
    "    # Loop through each frame in the game\n",
    "    for step in range(num_actions): \n",
    "        # Start the game to begin with \n",
    "        if done == True: \n",
    "            env.reset()\n",
    "        # Do random actions\n",
    "        action = env.action_space.sample()\n",
    "        state, reward, done, info = env.step(action)\n",
    "        if render == True:\n",
    "            env.render()\n",
    "        rewards.append(reward)\n",
    "         \n",
    "    # Close the game and return the rewards\n",
    "    env.close()\n",
    "    return np.sum(rewards)\n",
    "    \n",
    "    # Close the game\n",
    "    env.close()"
   ]
  },
  {
   "cell_type": "code",
   "execution_count": 8,
   "id": "cbb368b1",
   "metadata": {},
   "outputs": [
    {
     "name": "stdout",
     "output_type": "stream",
     "text": [
      "The reward in this trajectory is: 3\n"
     ]
    }
   ],
   "source": [
    "print('The reward in this trajectory is:', random_actions('SuperMarioBros-v0', SIMPLE_MOVEMENT, 10, False))"
   ]
  },
  {
   "cell_type": "markdown",
   "id": "5b9d8ed0",
   "metadata": {},
   "source": [
    "# Preprocessing the Environment"
   ]
  },
  {
   "cell_type": "code",
   "execution_count": 9,
   "id": "734622bb",
   "metadata": {},
   "outputs": [],
   "source": [
    "# Importing wrappers\n",
    "\n",
    "# Frame Stacker Wrapper and GrayScaling Wrapper\n",
    "from gym.wrappers import GrayScaleObservation\n",
    "from stable_baselines3.common.vec_env import VecFrameStack, DummyVecEnv"
   ]
  },
  {
   "cell_type": "code",
   "execution_count": 10,
   "id": "2660b2ab",
   "metadata": {},
   "outputs": [],
   "source": [
    "def set_up_env(game, movement, grayscale, frame_stacking, frames, order):\n",
    "\n",
    "    env = gym_super_mario_bros.make(game)\n",
    "    env = JoypadSpace(env, movement)\n",
    "    if grayscale == True:\n",
    "        env = GrayScaleObservation(env, keep_dim=True)\n",
    "    env = DummyVecEnv([lambda: env])\n",
    "    if frame_stacking == True:\n",
    "        env = VecFrameStack(env, frames, channels_order=order)\n",
    "        \n",
    "    return env"
   ]
  },
  {
   "cell_type": "markdown",
   "id": "07321e71",
   "metadata": {},
   "source": [
    "### Exploring what the GrayScaleObservation and VecFrameStack do"
   ]
  },
  {
   "cell_type": "markdown",
   "id": "a8a76a30",
   "metadata": {},
   "source": [
    "#### VecFrameStack and GrayScaleObservation turned off"
   ]
  },
  {
   "cell_type": "code",
   "execution_count": 11,
   "id": "e07e582b",
   "metadata": {},
   "outputs": [],
   "source": [
    "env = set_up_env('SuperMarioBros-v0', SIMPLE_MOVEMENT, False, False, 4, 'last')"
   ]
  },
  {
   "cell_type": "code",
   "execution_count": 12,
   "id": "a2b4d4dd",
   "metadata": {},
   "outputs": [
    {
     "name": "stdout",
     "output_type": "stream",
     "text": [
      "State Shape (1, 240, 256, 3)\n"
     ]
    },
    {
     "data": {
      "image/png": "[encoded data removed]",
      "text/plain": [
       "<Figure size 432x288 with 1 Axes>"
      ]
     },
     "metadata": {
      "needs_background": "light"
     },
     "output_type": "display_data"
    }
   ],
   "source": [
    "state = env.reset()\n",
    "print('State Shape', state.shape)\n",
    "plt.imshow(state[0]).origin='upper'"
   ]
  },
  {
   "cell_type": "markdown",
   "id": "2ae790b4",
   "metadata": {},
   "source": [
    "#### GrayScaleObservation Off and VecFrameStack On"
   ]
  },
  {
   "cell_type": "code",
   "execution_count": 13,
   "id": "9a6797fb",
   "metadata": {},
   "outputs": [],
   "source": [
    "env = set_up_env('SuperMarioBros-v0', SIMPLE_MOVEMENT, False, True, 4, 'last')"
   ]
  },
  {
   "cell_type": "code",
   "execution_count": 14,
   "id": "6bd55a52",
   "metadata": {},
   "outputs": [
    {
     "name": "stdout",
     "output_type": "stream",
     "text": [
      "State Shape (1, 240, 256, 12)\n"
     ]
    },
    {
     "data": {
      "image/png": "[encoded data removed]",
      "text/plain": [
       "<Figure size 1440x1440 with 12 Axes>"
      ]
     },
     "metadata": {
      "needs_background": "light"
     },
     "output_type": "display_data"
    }
   ],
   "source": [
    "state = env.reset()\n",
    "print('State Shape', state.shape)\n",
    "for i in range(0,4): # Filling our vector with images\n",
    "    state, reward, done, info = env.step([env.action_space.sample()]) # Note that the brackets around the env.action... are\n",
    "# because we have wrapped it\n",
    "\n",
    "plt.figure(figsize=(20,20))\n",
    "for idx in range(12): # So there'll be 4 images with 3 channels\n",
    "    plt.subplot(1,12,idx+1)\n",
    "    plt.imshow(state[0][:,:,idx]).origin='upper' # idx is in ranging through 1-4\n",
    "    plt.show"
   ]
  },
  {
   "cell_type": "markdown",
   "id": "a822790e",
   "metadata": {},
   "source": [
    "#### GrayScaleObservation and VecFrameStack On"
   ]
  },
  {
   "cell_type": "code",
   "execution_count": 15,
   "id": "54690f75",
   "metadata": {},
   "outputs": [],
   "source": [
    "env = set_up_env('SuperMarioBros-v0', SIMPLE_MOVEMENT, True, True, 4, 'last')"
   ]
  },
  {
   "cell_type": "code",
   "execution_count": 16,
   "id": "73da04b4",
   "metadata": {},
   "outputs": [
    {
     "name": "stdout",
     "output_type": "stream",
     "text": [
      "State Shape (1, 240, 256, 4)\n"
     ]
    },
    {
     "data": {
      "image/png": "[encoded data removed]",
      "text/plain": [
       "<Figure size 1440x1440 with 4 Axes>"
      ]
     },
     "metadata": {
      "needs_background": "light"
     },
     "output_type": "display_data"
    }
   ],
   "source": [
    "state = env.reset()\n",
    "print('State Shape', state.shape)\n",
    "for i in range(0,4): # Filling our vector with images\n",
    "    state, reward, done, info = env.step([env.action_space.sample()]) # Note that the brackets around the env.action... are\n",
    "# because we have wrapped it\n",
    "\n",
    "plt.figure(figsize=(20,20))\n",
    "for idx in range(state.shape[3]): # So there'll be 4 images\n",
    "    plt.subplot(1,4,idx+1)\n",
    "    plt.imshow(state[0][:,:,idx]).origin='upper' # idx is in ranging through 1-4\n",
    "    plt.show"
   ]
  },
  {
   "cell_type": "markdown",
   "id": "d7803dfa",
   "metadata": {},
   "source": [
    "# Setting up our Dueling Double DQN with PER"
   ]
  },
  {
   "cell_type": "code",
   "execution_count": 17,
   "id": "b70885b3",
   "metadata": {},
   "outputs": [
    {
     "name": "stdout",
     "output_type": "stream",
     "text": [
      "State Shape: (240, 256, 4)\n",
      "Number of actions: 7\n"
     ]
    }
   ],
   "source": [
    "# Getting the observation and action shape for our neural net\n",
    "\n",
    "env = set_up_env('SuperMarioBros-v0', SIMPLE_MOVEMENT, True, True, 4, 'last')\n",
    "\n",
    "state_shape, n_actions = env.observation_space.shape, env.action_space.n\n",
    "state_dim = state_shape\n",
    "print('State Shape:', state_dim)\n",
    "print('Number of actions:',n_actions)"
   ]
  },
  {
   "cell_type": "markdown",
   "id": "06669b1c",
   "metadata": {},
   "source": [
    "## Setting up the device"
   ]
  },
  {
   "cell_type": "code",
   "execution_count": 18,
   "id": "dc17a585",
   "metadata": {},
   "outputs": [
    {
     "data": {
      "text/plain": [
       "device(type='cpu')"
      ]
     },
     "execution_count": 18,
     "metadata": {},
     "output_type": "execute_result"
    }
   ],
   "source": [
    "device = torch.device('cuda' if torch.cuda.is_available() else 'cpu')\n",
    "device"
   ]
  },
  {
   "cell_type": "code",
   "execution_count": 19,
   "id": "b0e5e7d7",
   "metadata": {},
   "outputs": [],
   "source": [
    "# Creating the Dueling DQN Agent\n",
    "\n",
    "class DuelingDQNAgent(nn.Module):\n",
    "    def __init__(self, state_shape, n_actions, epsilon = 0.5):\n",
    "\n",
    "        super().__init__()\n",
    "        self.epsilon = epsilon\n",
    "        self.n_actions = n_actions\n",
    "        self.state_shape = state_shape\n",
    "        \n",
    "        self.conv = nn.Sequential(nn.Conv2d(in_channels=4, out_channels=32, kernel_size=8, stride=4),\n",
    "            nn.Tanh(),\n",
    "            nn.AvgPool2d(kernel_size=2, stride=2, padding=0),\n",
    "            nn.Conv2d(in_channels=32, out_channels=32, kernel_size=8, stride=4),\n",
    "            nn.Tanh(),\n",
    "            nn.AvgPool2d(kernel_size=2, stride=2, padding=0),\n",
    "            nn.Flatten())\n",
    "        self.value = nn.Sequential(nn.Linear(288, 1))\n",
    "        self.adv = nn.Sequential(nn.Linear(288, n_actions))\n",
    "        \n",
    "    def forward(self, state_t):\n",
    "        x = self.conv(state_t)\n",
    "        v = self.value(x)\n",
    "        adv = self.adv(x)\n",
    "        adv_avg = torch.mean(adv, dim=1, keepdim=True)\n",
    "        qvalues = v + adv - adv_avg\n",
    "        return qvalues\n",
    "\n",
    "    def get_qvalues(self, states):\n",
    "        qvalues = self.forward(states)\n",
    "        return qvalues.data.cpu().numpy()\n",
    "\n",
    "    def sample_actions(self, qvalues):\n",
    "        # Sample actions from a batch of q_values using epsilon greedy policy\n",
    "        epsilon = self.epsilon\n",
    "        batch_size, n_actions = qvalues.shape\n",
    "        random_actions = np.random.choice(n_actions, size=batch_size)\n",
    "        best_actions = qvalues.argmax(axis=-1)\n",
    "        should_explore = np.random.choice(\n",
    "            [0, 1], batch_size, p=[1-epsilon, epsilon])\n",
    "        return np.where(should_explore, random_actions, best_actions)"
   ]
  },
  {
   "cell_type": "code",
   "execution_count": 20,
   "id": "dc8f3ff8",
   "metadata": {},
   "outputs": [],
   "source": [
    "# Instantiation of the agent\n",
    "\n",
    "agent = DuelingDQNAgent(state_shape, n_actions, epsilon=0.5).to(device)"
   ]
  },
  {
   "cell_type": "code",
   "execution_count": 21,
   "id": "846bf00f",
   "metadata": {},
   "outputs": [
    {
     "data": {
      "text/plain": [
       "torch.Size([1, 4, 240, 256])"
      ]
     },
     "execution_count": 21,
     "metadata": {},
     "output_type": "execute_result"
    }
   ],
   "source": [
    "state = env.reset()\n",
    "\n",
    "def reorder_state(state):\n",
    "    state = torch.tensor(state, device=device, dtype=torch.float32)\n",
    "    state = torch.squeeze(state)\n",
    "    state = state.transpose(0,2)\n",
    "    state = state.transpose(1,2)\n",
    "    state = state.unsqueeze(0)\n",
    "    \n",
    "    return state\n",
    "    \n",
    "state = reorder_state(state)\n",
    "state.shape"
   ]
  },
  {
   "cell_type": "markdown",
   "id": "ef8cc7b6",
   "metadata": {},
   "source": [
    "## Prioritized Experience Replay"
   ]
  },
  {
   "cell_type": "markdown",
   "id": "eb1a2cc8",
   "metadata": {},
   "source": [
    "### Mathematical Description of Prioritized Experience Replay"
   ]
  },
  {
   "cell_type": "markdown",
   "id": "c7d3ceef",
   "metadata": {},
   "source": [
    "Replay buffer is very important in DQN to break the correlation between samples. We use a behavior policy ($\\epsilon-greedy$) to sample from the environment and store the transitions $(s,a,r,s',done)$ into a buffer. These samples are used multiple times in a learning making the process sample efficient. \n",
    "\n",
    "We will be using prioritized version of experience replay. \n",
    "\n",
    "The interface to PrioritizedReplayBuffer is:\n",
    "* `exp_replay.add(state, action, reward, next_state, done)` - saves (s,a,r,s',done) tuple into the buffer\n",
    "* `exp_replay.sample(batch_size)` - returns states, actions, rewards, next_states and done_flags for `batch_size` random samples.\n",
    "* `update_priorities(idxs, new_priorities)` - returns nothing. \n",
    "* `len(exp_replay)` - returns number of elements stored in replay buffer.\n",
    "\n",
    "In usual replay buffer, we select training batch with equal probability of selection for each sample/transition stored in the buffer. However, in Prioritized replay, we assign an importance score $p_i$ to each sample/transition. One approach to importance score is to use the absolute value of TD error $\\delta_i$ with addition of small constant $\\epsilon$ to avoid the edge case of error being zero and not picked up again ever.  \n",
    "\n",
    "$$ p_i = |\\delta_i| +\\epsilon$$\n",
    "\n",
    "$$\\delta_i = r_i + \\left[ (1-done_i)  \\gamma   \\max_{a_i^{'}} \\tilde{Q}(s_{i}^{'},a_i^{'},{\\bf{\\Theta}}^{target}_t) \\right] – \\hat{Q}(s_i,a_i,{\\bf{\\Theta}}_t)$$\n",
    "\n",
    "Note: We have the regular DQN error written above, but when combining the Double DQN and PER, this error will change to accomodate the changes in the Double DQN.\n",
    "\n",
    "At the time of picking the batch samples from buffer, the individual importance scores for samples are converted to probability which defines the probability of a sample being picked:\n",
    "\n",
    "$$P(i) = \\frac{p_i^{\\alpha}}{\\sum_i p_i^{\\alpha}}$$\n",
    "\n",
    "$\\alpha$ is a hyper parameter and in the paper in which this method was developed, a value of 0.6 was found to work the best. We are using the same value in our code here.\n",
    "\n",
    "TD error for the samples chosen in the batch is used to calculate the loss and $\\nabla_w(L)$. The TD error is also used to update the importance score $p_i$ of the samples back in the buffer. \n",
    "\n",
    "The probability $P(i)$ is also used to calculate a weight, an importance sampling value, to adjust for the fact that samples now have a non uniform probability of being picked. The weight vector for batch samples as given below:\n",
    "\n",
    "$$w_i = \\left(\\frac{1}{N}\\frac{1}{P(i)} \\right)^\\beta$$\n",
    "\n",
    "The value of $\\beta=0.4$ has been taken from the paper in which this was originally implemented, same as with $\\alpha$.\n",
    "\n",
    "Now, we normalize our weight:\n",
    "\n",
    "$$w_i=\\dfrac{1}{\\max_{i} w_i} w_i$$\n",
    "\n",
    "Finally, our loss function is now:\n",
    "\n",
    "$${\\mathcal{L}}({\\bf{\\Theta}}_t, {\\bf{\\Theta}}^{target}_t)= \\dfrac{1}{N}\\sum_{i=1}^{N} \\left[ \\left( r_i+[(1-done_i) \\gamma \\max_{{a_i}^{'}} {\\tilde{Q}}({s_i}^{'},{a_i}^{'},{\\bf{\\Theta}}^{target}_t)]-{\\hat{Q}}(s_i,a_i, {\\bf{\\Theta}}_t) \\right) w_i \\right] ^2$$\n",
    "\n",
    "From this, we can calculate our parameter update equation, which we omit for brevity."
   ]
  },
  {
   "cell_type": "code",
   "execution_count": 22,
   "id": "ebcf4fdb",
   "metadata": {},
   "outputs": [],
   "source": [
    "class PrioritizedReplayBuffer:\n",
    "    def __init__(self, size, alpha=0.6, beta=0.4):\n",
    "        self.size = size # Max number of items in buffer\n",
    "        self.buffer =[] # Array to holde buffer\n",
    "        self.next_id = 0\n",
    "        self.alpha = alpha\n",
    "        self.beta = beta\n",
    "        self.priorities = np.ones(size)\n",
    "        self.epsilon = 1e-5\n",
    "    \n",
    "    def __len__(self):\n",
    "        return len(self.buffer)\n",
    "    \n",
    "    def add(self, state, action, reward, next_state, done):\n",
    "        item = (state, action, reward, next_state, done)\n",
    "        max_priority = self.priorities.max()\n",
    "        if len(self.buffer) < self.size:\n",
    "            self.buffer.append(item)\n",
    "        else:\n",
    "            self.buffer[self.next_id] = item\n",
    "        self.priorities[self.next_id] = max_priority\n",
    "        self.next_id = (self.next_id + 1) % self.size\n",
    "        \n",
    "    def sample(self, batch_size):\n",
    "        priorities = self.priorities[:len(self.buffer)]\n",
    "        probabilities = priorities ** self.alpha\n",
    "        probabilities /= probabilities.sum()\n",
    "        N = len(self.buffer)\n",
    "        weights = (N * probabilities) ** (-self.beta)\n",
    "        weights /= weights.max()\n",
    "\n",
    "        idxs = np.random.choice(len(self.buffer), batch_size, p=probabilities)\n",
    "\n",
    "        samples = [self.buffer[i] for i in idxs]\n",
    "        states, actions, rewards, next_states, done_flags = list(zip(*samples))\n",
    "        weights = weights[idxs]\n",
    "        \n",
    "        \n",
    "        return  (torch.stack(states), np.array(actions), np.array(rewards), \n",
    "                next_states, np.array(done_flags), np.array(weights), np.array(idxs))\n",
    "        \n",
    "    def update_priorities(self, idxs, new_priorities):\n",
    "        self.priorities[idxs] = new_priorities+self.epsilon"
   ]
  },
  {
   "cell_type": "code",
   "execution_count": 23,
   "id": "8301d4dc",
   "metadata": {},
   "outputs": [],
   "source": [
    "def play_and_record(start_state, agent, env, exp_replay, n_steps=1):\n",
    "\n",
    "    s = start_state\n",
    "    sum_rewards = 0\n",
    "\n",
    "    # Play the game for n_steps and record transitions in buffer\n",
    "    for _ in range(n_steps):\n",
    "        qvalues = agent.get_qvalues(s)\n",
    "        a = agent.sample_actions(qvalues)\n",
    "        next_s, r, done, _ = env.step(a)\n",
    "        next_s = reorder_state(next_s)\n",
    "        sum_rewards += r\n",
    "        exp_replay.add(s, a, r, next_s, done)\n",
    "        if done:\n",
    "            s = env.reset()\n",
    "            s = reorder_state(s)\n",
    "        else:\n",
    "            s = next_s\n",
    "\n",
    "    return sum_rewards, s"
   ]
  },
  {
   "cell_type": "markdown",
   "id": "4e0cfb30",
   "metadata": {},
   "source": [
    "### Target network"
   ]
  },
  {
   "cell_type": "code",
   "execution_count": 24,
   "id": "04cdea71",
   "metadata": {},
   "outputs": [
    {
     "data": {
      "text/plain": [
       "<All keys matched successfully>"
      ]
     },
     "execution_count": 24,
     "metadata": {},
     "output_type": "execute_result"
    }
   ],
   "source": [
    "target_network = DuelingDQNAgent(agent.state_shape, agent.n_actions, epsilon=0.5).to(device)\n",
    "target_network.load_state_dict(agent.state_dict())"
   ]
  },
  {
   "cell_type": "markdown",
   "id": "495c741a",
   "metadata": {},
   "source": [
    "### Learning with Double DQN"
   ]
  },
  {
   "cell_type": "code",
   "execution_count": 25,
   "id": "ada7868e",
   "metadata": {},
   "outputs": [],
   "source": [
    "def compute_td_loss_priority_replay_ddqn(agent, target_network, replay_buffer,\n",
    "                                    states, actions, rewards, next_states, done_flags, weights, buffer_idxs,\n",
    "                                    gamma=0.99, device=device):\n",
    "\n",
    "    # Convert numpy array to torch tensors\n",
    "    actions = torch.tensor(actions, device=device, dtype=torch.long)\n",
    "    rewards = torch.tensor(rewards, device=device, dtype=torch.float)\n",
    "    done_flags = torch.tensor(done_flags.astype('float32'),device=device,dtype=torch.float)\n",
    "    weights = torch.tensor(weights, device=device, dtype=torch.float)\n",
    "\n",
    "    # Get q-values for all actions in current states using agent network\n",
    "    predicted_qvalues = agent(states)\n",
    "\n",
    "    # Compute q-values for all actions in next states\n",
    "    # Use target network\n",
    "    next_states = torch.stack(next_states)\n",
    "    next_states = next_states.squeeze(1)\n",
    "    predicted_next_qvalues = target_network(next_states)\n",
    "    \n",
    "    # Select q-values for chosen actions\n",
    "    predicted_qvalues_for_actions = predicted_qvalues[range(\n",
    "        len(actions)), actions]\n",
    "    \n",
    "    # Same up to here as the regular DQN\n",
    "\n",
    "    # Compute q-values for all actions in next states\n",
    "    # Use agent network (online network)\n",
    "    qvalues_next_states = agent(next_states).detach()\n",
    "    \n",
    "    # Compute Q argmax(next_states, actions) using predicted next q-values\n",
    "    _,a1max = torch.max(qvalues_next_states, dim=1)\n",
    "\n",
    "    # Use target network to calculate the q value for best action chosen above\n",
    "    qvalues_next_states_target = target_network(next_states)\n",
    "\n",
    "    qvalues_next_states_target_max = qvalues_next_states_target[range(len(a1max)), a1max]\n",
    "\n",
    "    # Compute \"target q-values\" \n",
    "    target_q = rewards + gamma * qvalues_next_states_target_max * (1-done_flags)\n",
    "\n",
    "    # Mean squared error loss to minimize\n",
    "    loss = torch.mean((predicted_qvalues_for_actions - target_q).pow(2))\n",
    "\n",
    "    return loss"
   ]
  },
  {
   "cell_type": "markdown",
   "id": "545dbd1a",
   "metadata": {},
   "source": [
    "## Main loop"
   ]
  },
  {
   "cell_type": "code",
   "execution_count": 26,
   "id": "5fe8cf05",
   "metadata": {},
   "outputs": [],
   "source": [
    "from tqdm import trange\n",
    "from IPython.display import clear_output\n",
    "import matplotlib.pyplot as plt"
   ]
  },
  {
   "cell_type": "code",
   "execution_count": 27,
   "id": "7f59f8c9",
   "metadata": {},
   "outputs": [
    {
     "data": {
      "text/plain": [
       "<torch._C.Generator at 0x2972d1ac790>"
      ]
     },
     "execution_count": 27,
     "metadata": {},
     "output_type": "execute_result"
    }
   ],
   "source": [
    "# set a seed\n",
    "seed = 100\n",
    "random.seed(seed)\n",
    "np.random.seed(seed)\n",
    "torch.manual_seed(seed)"
   ]
  },
  {
   "cell_type": "code",
   "execution_count": 28,
   "id": "12b06c79",
   "metadata": {},
   "outputs": [
    {
     "name": "stdout",
     "output_type": "stream",
     "text": [
      "State Shape (240, 256, 4)\n",
      "Number of actions 7\n"
     ]
    },
    {
     "data": {
      "text/plain": [
       "<All keys matched successfully>"
      ]
     },
     "execution_count": 28,
     "metadata": {},
     "output_type": "execute_result"
    }
   ],
   "source": [
    "# Setting up the agent, environment, and target networks\n",
    "\n",
    "env = set_up_env('SuperMarioBros-1-1-v0', SIMPLE_MOVEMENT, True, True, 4, 'last')\n",
    "print('State Shape',state_shape)\n",
    "print('Number of actions', n_actions)\n",
    "\n",
    "start = env.reset()\n",
    "\n",
    "agent = DuelingDQNAgent(state_shape, n_actions, epsilon=1).to(device)\n",
    "target_network = DuelingDQNAgent(state_shape, n_actions, epsilon=1).to(device)\n",
    "target_network.load_state_dict(agent.state_dict())"
   ]
  },
  {
   "cell_type": "code",
   "execution_count": 29,
   "id": "9d76cf0f",
   "metadata": {},
   "outputs": [
    {
     "name": "stdout",
     "output_type": "stream",
     "text": [
      "Number of experiences in Prioritized Replay Buffer 10000\n"
     ]
    }
   ],
   "source": [
    "# let us fill experience replay with some samples using full random policy\n",
    "\n",
    "exp_replay = PrioritizedReplayBuffer(10**4)\n",
    "for i in range(100):\n",
    "    state = reorder_state(env.reset()) # We are focusing on the first 100 steps, so we only want it to fill exp_replay\n",
    "    # with expriences from that\n",
    "    play_and_record(state, agent, env, exp_replay, n_steps=100)\n",
    "    if len(exp_replay) == 10**4:\n",
    "        break\n",
    "print('Number of experiences in Prioritized Replay Buffer',len(exp_replay))"
   ]
  },
  {
   "cell_type": "code",
   "execution_count": 30,
   "id": "136f5ab6",
   "metadata": {},
   "outputs": [],
   "source": [
    "# Training parameters\n",
    "\n",
    "timesteps_per_epoch = 100 # How many experiences we will add to exp_replay at a time\n",
    "batch_size = 64 # How many experiences we pull from exp_replay at a time\n",
    "total_iter = 100\n",
    "\n",
    "# Optimizer\n",
    "opt = torch.optim.Adam(agent.parameters(), lr=1e-5)\n",
    "\n",
    "# Exploration Epsilon\n",
    "start_epsilon = 1\n",
    "end_epsilon = 0.05\n",
    "eps_decay_final_step = 2 * 10*4\n",
    "\n",
    "# Frequency for logging and updating\n",
    "loss_freq = 10\n",
    "refresh_target_network_freq = 5\n",
    "eval_freq = 100 # Not in use\n",
    "\n",
    "# Gradient Clipping\n",
    "max_grad_norm = 5000\n",
    "\n",
    "# Logging\n",
    "mean_rw_history = []\n",
    "td_loss_history = []"
   ]
  },
  {
   "cell_type": "code",
   "execution_count": 31,
   "id": "0059427a",
   "metadata": {},
   "outputs": [],
   "source": [
    "# Epsilon Schedule and Smoothening functions\n",
    "\n",
    "def epsilon_schedule(start_eps, end_eps, step, final_step):\n",
    "    return start_eps + (end_eps-start_eps)*min(step, final_step)/final_step\n",
    "\n",
    "def smoothen(values):\n",
    "    kernel = gaussian(100, std=100)\n",
    "    kernel = kernel / np.sum(kernel)\n",
    "    return convolve(values, kernel, 'valid')"
   ]
  },
  {
   "cell_type": "code",
   "execution_count": 32,
   "id": "20a8c6d0",
   "metadata": {
    "scrolled": false
   },
   "outputs": [
    {
     "name": "stdout",
     "output_type": "stream",
     "text": [
      "Step 0\n",
      "Average Loss 1.716\n",
      "Step 10\n",
      "Average Loss 1.103\n",
      "Step 20\n",
      "Average Loss 0.988\n",
      "Step 30\n",
      "Average Loss 0.96\n",
      "Step 40\n",
      "Average Loss 1.053\n",
      "Step 50\n",
      "Average Loss 0.909\n",
      "Step 60\n",
      "Average Loss 0.919\n",
      "Step 70\n",
      "Average Loss 0.828\n",
      "Step 80\n",
      "Average Loss 0.837\n",
      "Step 90\n",
      "Average Loss 0.753\n",
      "Step 100\n",
      "Average Loss 0.713\n",
      "This training took: 216.54 seconds\n"
     ]
    }
   ],
   "source": [
    "# Training\n",
    "\n",
    "start = time.time()\n",
    "state = reorder_state(env.reset())\n",
    "\n",
    "for step in range(total_iter + 1):\n",
    "    \n",
    "    # Reduce exploration as we progress\n",
    "    agent.epsilon = epsilon_schedule(start_epsilon, end_epsilon, step, eps_decay_final_step)\n",
    "\n",
    "    # Take timesteps_per_epoch and update experience replay buffer\n",
    "    _, state = play_and_record(state, agent, env, exp_replay, timesteps_per_epoch)\n",
    "\n",
    "    # Train by sampling batch_size of data from experience replay\n",
    "    states, actions, rewards, next_states, done_flags, weights, idxs = exp_replay.sample(batch_size)\n",
    "    states = states.squeeze(1) # It comes out as [batch_size, 1, 4, 240, 256], so we drop the 1\n",
    "    \n",
    "    # Computing the TD loss\n",
    "    loss = compute_td_loss_priority_replay_ddqn(agent, target_network, exp_replay,\n",
    "                           states, actions, rewards, next_states, done_flags, weights, idxs,              \n",
    "                           gamma=0.25,\n",
    "                           device=device)\n",
    "\n",
    "    loss.backward()\n",
    "    grad_norm = nn.utils.clip_grad_norm_(agent.parameters(), max_grad_norm)\n",
    "    opt.step()\n",
    "    opt.zero_grad()\n",
    "    \n",
    "    td_loss_history.append(loss.data.cpu().item())\n",
    "\n",
    "    if step % loss_freq == 0:\n",
    "        print('Step', step)\n",
    "#         td_loss_history.append(loss.data.cpu().item())\n",
    "        print('Average Loss', round(np.mean(td_loss_history[-loss_freq:]),3))\n",
    "\n",
    "    if step % refresh_target_network_freq == 0:\n",
    "        # Load agent weights into target_network\n",
    "        target_network.load_state_dict(agent.state_dict())\n",
    "\n",
    "#     if step % eval_freq == 0:\n",
    "#         eval the agent\n",
    "#         mean_rw_history.append(evaluate(env, agent, n_games=1, greedy=True, t_max=5)\n",
    "#         )\n",
    "\n",
    "#         clear_output(True)\n",
    "#         print(\"buffer size = %i, epsilon = %.5f\" %\n",
    "#               (len(exp_replay), agent.epsilon))\n",
    "\n",
    "#         plt.figure(figsize=[16, 5])\n",
    "#         plt.subplot(1, 2, 1)\n",
    "#         plt.title(\"Mean reward per episode\")\n",
    "#         plt.plot(mean_rw_history)\n",
    "#         plt.grid()\n",
    "\n",
    "#         assert not np.isnan(td_loss_history[-1])\n",
    "#         plt.subplot(1, 2, 2)\n",
    "#         plt.title(\"TD loss history (smoothened)\")\n",
    "#         plt.plot(smoothen(td_loss_history))\n",
    "#         plt.grid()\n",
    "\n",
    "#         plt.show()\n",
    "end = time.time()\n",
    "print('This training took:', round(end-start,2), 'seconds')"
   ]
  },
  {
   "cell_type": "code",
   "execution_count": 33,
   "id": "351d0dd5",
   "metadata": {},
   "outputs": [
    {
     "data": {
      "text/plain": [
       "Text(0, 0.5, 'Loss')"
      ]
     },
     "execution_count": 33,
     "metadata": {},
     "output_type": "execute_result"
    },
    {
     "data": {
      "image/png": "[encoded data removed]",
      "text/plain": [
       "<Figure size 1200x360 with 1 Axes>"
      ]
     },
     "metadata": {
      "needs_background": "light"
     },
     "output_type": "display_data"
    }
   ],
   "source": [
    "# Plotting the mean rewards and losses per perf_check \n",
    "\n",
    "plt.rcParams.update({'figure.figsize':(10,3), 'figure.dpi':120})\n",
    "\n",
    "plt.plot(td_loss_history)\n",
    "plt.title('Loss versus Iterations')\n",
    "plt.xlabel('Iteration')\n",
    "plt.ylabel('Loss')"
   ]
  },
  {
   "cell_type": "markdown",
   "id": "d18932dc",
   "metadata": {},
   "source": [
    "# Evaluating our Agent"
   ]
  },
  {
   "cell_type": "code",
   "execution_count": 34,
   "id": "730b85d6",
   "metadata": {},
   "outputs": [],
   "source": [
    "# Evaluation function\n",
    "\n",
    "def evaluate_mario(n_steps, render, greedy=True):\n",
    "\n",
    "    rewards = []\n",
    "    \n",
    "    # Initialize the environment\n",
    "    env = set_up_env('SuperMarioBros-v0', SIMPLE_MOVEMENT, True, True, 4, 'last')\n",
    "    s = env.reset()\n",
    "    s = reorder_state(s)\n",
    "    \n",
    "    # Generate n_steps of trajectory:\n",
    "    for t in range(n_steps):\n",
    "        qvalues = agent.get_qvalues(s)[0]\n",
    "        \n",
    "        # Choose action based on best q-value\n",
    "        a = qvalues.argmax(-1)\n",
    "\n",
    "        next_state, r, done, _ = env.step([a])\n",
    "        if render == True:\n",
    "            env.render()\n",
    "\n",
    "        rewards.append(r)\n",
    "        \n",
    "        s = reorder_state(next_state)\n",
    "        if done:\n",
    "            break\n",
    "    env.close()\n",
    "\n",
    "    return np.sum(rewards)"
   ]
  },
  {
   "cell_type": "code",
   "execution_count": 35,
   "id": "93431782",
   "metadata": {},
   "outputs": [
    {
     "name": "stderr",
     "output_type": "stream",
     "text": [
      "C:\\Users\\chris\\anaconda3\\lib\\site-packages\\pyglet\\image\\codecs\\wic.py:289: UserWarning: [WinError -2147417850] Cannot change thread mode after it is set\n",
      "  warnings.warn(str(err))\n"
     ]
    },
    {
     "name": "stdout",
     "output_type": "stream",
     "text": [
      "The agent recieved a total reward in one playthrough of 734.0\n"
     ]
    }
   ],
   "source": [
    "print('The agent recieved a total reward in one playthrough of', evaluate_mario(1000, True, True))"
   ]
  },
  {
   "cell_type": "markdown",
   "id": "1388cba3",
   "metadata": {},
   "source": [
    "Note, because DQN gives a determinsitic policy, we do not need to do multiple and average over them."
   ]
  },
  {
   "cell_type": "markdown",
   "id": "247e9a42",
   "metadata": {},
   "source": [
    "# Saving and Reloading the agent"
   ]
  },
  {
   "cell_type": "code",
   "execution_count": 39,
   "id": "8aa08aff",
   "metadata": {},
   "outputs": [],
   "source": [
    "# Saving an agent\n",
    "\n",
    "torch.save(agent, 'Models/DQN.h5')"
   ]
  },
  {
   "cell_type": "code",
   "execution_count": 38,
   "id": "45501436",
   "metadata": {},
   "outputs": [],
   "source": [
    "# # Loading an agent\n",
    "\n",
    "# agent = torch.load('Models/DQN_best.h5')\n",
    "\n",
    "# # Confirming it has the architecture we want\n",
    "# agent.eval()"
   ]
  },
  {
   "cell_type": "code",
   "execution_count": null,
   "id": "e623c3da",
   "metadata": {},
   "outputs": [],
   "source": []
  }
 ],
 "metadata": {
  "kernelspec": {
   "display_name": "Python 3 (ipykernel)",
   "language": "python",
   "name": "python3"
  },
  "language_info": {
   "codemirror_mode": {
    "name": "ipython",
    "version": 3
   },
   "file_extension": ".py",
   "mimetype": "text/x-python",
   "name": "python",
   "nbconvert_exporter": "python",
   "pygments_lexer": "ipython3",
   "version": "3.9.12"
  },
  "toc": {
   "base_numbering": 1,
   "nav_menu": {},
   "number_sections": true,
   "sideBar": true,
   "skip_h1_title": false,
   "title_cell": "Table of Contents",
   "title_sidebar": "Contents",
   "toc_cell": false,
   "toc_position": {
    "height": "calc(100% - 180px)",
    "left": "10px",
    "top": "150px",
    "width": "165px"
   },
   "toc_section_display": true,
   "toc_window_display": true
  }
 },
 "nbformat": 4,
 "nbformat_minor": 5
}
